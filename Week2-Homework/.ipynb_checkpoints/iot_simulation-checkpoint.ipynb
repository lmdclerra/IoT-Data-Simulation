{
  "cells": [
    {
      "cell_type": "code",
      "execution_count": null,
      "id": "2a5a2d52-925f-4680-baca-2a08fd0b73c1",
      "metadata": {
        "trusted": true
      },
      "outputs": [],
      "source": [
        "import pandas as pd\n",
        "import numpy as np\n",
        "from datetime import datetime, timedelta\n",
        "\n",
        "\n",
        "num_records = 100  # Adjust this number as needed\n",
        "\n",
        "# List of Allowed Status\n",
        "list_status = [\"In Transit\", \"Delivered\", \"Delayed\"]\n",
        "\n",
        "# Data of Smart Logistics\n",
        "data = []\n",
        "\n",
        "\n",
        "for i in range(num_records):\n",
        "    # Use current timestamp but format it with actual time\n",
        "    current_time = datetime.now()\n",
        "\n",
        "    # Format: {date}T{time}I{interval}\n",
        "    formatted_time = current_time.strftime(f\"%Y-%m-%dT%H:%M:%SI{i}\")\n",
        "    \n",
        "    # Random Philippines latitude (4.5 to 21 degrees North)\n",
        "    lat = round(np.random.uniform(4.5, 21.0), 6)\n",
        "    \n",
        "    # Random Philippines longitude (116 to 127 degrees East)\n",
        "    lng = round(np.random.uniform(116.0, 127.0), 6)\n",
        "    \n",
        "    record = {\n",
        "        \"timestamp\": formatted_time,  # Timestamp\n",
        "        \"package_id\": f\"PKG{i+1:03d}\",  # Package ID per interval\n",
        "        \"gps_coords\": f\"({lat}, {lng})\",  # Random GPS Coordinates around the Philippines\n",
        "        \"temperature\": f\"{np.random.randint(24, 31)} C\",  # Random Temperature\n",
        "        \"status\": list_status[np.random.randint(0, 3)],  # Random status\n",
        "    }\n",
        "    data.append(record)\n",
        "\n",
        "# Convert to DataFrame\n",
        "df = pd.DataFrame(data)\n",
        "\n",
        "\n",
        "# Save dataset\n",
        "df.to_csv(\"iot_data.csv\", index=False)\n",
        "df.to_json(\"iot_data.json\", orient=\"records\")\n",
        "\n",
        "\n",
        "# Display first few rows\n",
        "df.head()"
      ]
    },
    {
      "cell_type": "code",
      "execution_count": null,
      "id": "9cd788cb-8488-4448-bdef-7ac11d66f290",
      "metadata": {
        "trusted": true
      },
      "outputs": [],
      "source": []
    }
  ],
  "metadata": {
    "kernelspec": {
      "display_name": "Python (Pyodide)",
      "language": "python",
      "name": "python"
    },
    "language_info": {
      "codemirror_mode": {
        "name": "python",
        "version": 3
      },
      "file_extension": ".py",
      "mimetype": "text/x-python",
      "name": "python",
      "nbconvert_exporter": "python",
      "pygments_lexer": "ipython3",
      "version": "3.8"
    }
  },
  "nbformat": 4,
  "nbformat_minor": 5
}
